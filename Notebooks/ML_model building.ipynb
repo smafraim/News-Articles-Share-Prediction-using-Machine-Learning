{
 "cells": [
  {
   "cell_type": "markdown",
   "id": "263db9de",
   "metadata": {},
   "source": [
    "# 5. Analyze & Share phase\n",
    "## 5.1 Feature Selection\n",
    "\n",
    "I'll use some of the methods to select the features that would provide the best patterns or insights. These would be:\n",
    "\n",
    "1. Correlation\n",
    "2. Extra Trees Regressor\n",
    "3. RFECV\n",
    "4. Linear Regression\n",
    "5. Lasso (L1 reg)"
   ]
  },
  {
   "cell_type": "code",
   "execution_count": 1,
   "id": "26f2dd20",
   "metadata": {},
   "outputs": [
    {
     "name": "stdout",
     "output_type": "stream",
     "text": [
      "(1000, 32)\n"
     ]
    },
    {
     "data": {
      "text/html": [
       "<div>\n",
       "<style scoped>\n",
       "    .dataframe tbody tr th:only-of-type {\n",
       "        vertical-align: middle;\n",
       "    }\n",
       "\n",
       "    .dataframe tbody tr th {\n",
       "        vertical-align: top;\n",
       "    }\n",
       "\n",
       "    .dataframe thead th {\n",
       "        text-align: right;\n",
       "    }\n",
       "</style>\n",
       "<table border=\"1\" class=\"dataframe\">\n",
       "  <thead>\n",
       "    <tr style=\"text-align: right;\">\n",
       "      <th></th>\n",
       "      <th>cleaned_title</th>\n",
       "      <th>cleaned_text</th>\n",
       "      <th>weekday</th>\n",
       "      <th>is_weekend</th>\n",
       "      <th>month</th>\n",
       "      <th>month number</th>\n",
       "      <th>weekday number</th>\n",
       "      <th>title_tokens</th>\n",
       "      <th>text_tokens</th>\n",
       "      <th>cleaned_data_channel</th>\n",
       "      <th>Channel_Entertainment</th>\n",
       "      <th>Channel_Lifestyle</th>\n",
       "      <th>Channel_Others</th>\n",
       "      <th>Channel_Social Media</th>\n",
       "      <th>Channel_Tech</th>\n",
       "      <th>unique_tokens_rate</th>\n",
       "      <th>num_hrefs</th>\n",
       "      <th>num_imgs</th>\n",
       "      <th>num_videos</th>\n",
       "      <th>average_token_length</th>\n",
       "      <th>num_keywords</th>\n",
       "      <th>min_avg_key</th>\n",
       "      <th>max_avg_key</th>\n",
       "      <th>avg_avg_key</th>\n",
       "      <th>href_avg_shares</th>\n",
       "      <th>global_subjectivity</th>\n",
       "      <th>global_sentiment_polarity</th>\n",
       "      <th>global_rate_positive_words</th>\n",
       "      <th>global_rate_negative_words</th>\n",
       "      <th>title_subjectivity</th>\n",
       "      <th>title_sentiment_polarity</th>\n",
       "      <th>shares</th>\n",
       "    </tr>\n",
       "  </thead>\n",
       "  <tbody>\n",
       "    <tr>\n",
       "      <th>0</th>\n",
       "      <td>time youtube competitor</td>\n",
       "      <td>reported last week yahoo getting online video ...</td>\n",
       "      <td>Monday</td>\n",
       "      <td>0</td>\n",
       "      <td>March</td>\n",
       "      <td>1</td>\n",
       "      <td>1</td>\n",
       "      <td>7</td>\n",
       "      <td>195</td>\n",
       "      <td>Business</td>\n",
       "      <td>0</td>\n",
       "      <td>0</td>\n",
       "      <td>0</td>\n",
       "      <td>0</td>\n",
       "      <td>0</td>\n",
       "      <td>0.640816</td>\n",
       "      <td>5</td>\n",
       "      <td>3</td>\n",
       "      <td>1</td>\n",
       "      <td>4.579592</td>\n",
       "      <td>5</td>\n",
       "      <td>1459.500</td>\n",
       "      <td>4817.692</td>\n",
       "      <td>3370.415</td>\n",
       "      <td>1833.333</td>\n",
       "      <td>0.403762</td>\n",
       "      <td>0.038762</td>\n",
       "      <td>0.036735</td>\n",
       "      <td>0.024490</td>\n",
       "      <td>0.25</td>\n",
       "      <td>0.25</td>\n",
       "      <td>1600</td>\n",
       "    </tr>\n",
       "    <tr>\n",
       "      <th>1</th>\n",
       "      <td>ultimate roundup 2014s biggest april fools day...</td>\n",
       "      <td>april fools marks day pranking goes corporate ...</td>\n",
       "      <td>Tuesday</td>\n",
       "      <td>0</td>\n",
       "      <td>April</td>\n",
       "      <td>0</td>\n",
       "      <td>5</td>\n",
       "      <td>12</td>\n",
       "      <td>108</td>\n",
       "      <td>Tech</td>\n",
       "      <td>0</td>\n",
       "      <td>0</td>\n",
       "      <td>0</td>\n",
       "      <td>0</td>\n",
       "      <td>1</td>\n",
       "      <td>0.549618</td>\n",
       "      <td>4</td>\n",
       "      <td>1</td>\n",
       "      <td>0</td>\n",
       "      <td>4.636704</td>\n",
       "      <td>7</td>\n",
       "      <td>0.000</td>\n",
       "      <td>3581.094</td>\n",
       "      <td>2556.367</td>\n",
       "      <td>8500.000</td>\n",
       "      <td>0.410707</td>\n",
       "      <td>0.180934</td>\n",
       "      <td>0.044944</td>\n",
       "      <td>0.003745</td>\n",
       "      <td>0.00</td>\n",
       "      <td>0.00</td>\n",
       "      <td>1500</td>\n",
       "    </tr>\n",
       "    <tr>\n",
       "      <th>2</th>\n",
       "      <td>selfie one garish jacket red sox white house</td>\n",
       "      <td>2013 world series champion boston red sox visi...</td>\n",
       "      <td>Tuesday</td>\n",
       "      <td>0</td>\n",
       "      <td>April</td>\n",
       "      <td>0</td>\n",
       "      <td>5</td>\n",
       "      <td>15</td>\n",
       "      <td>517</td>\n",
       "      <td>Tech</td>\n",
       "      <td>0</td>\n",
       "      <td>0</td>\n",
       "      <td>0</td>\n",
       "      <td>0</td>\n",
       "      <td>1</td>\n",
       "      <td>0.577236</td>\n",
       "      <td>8</td>\n",
       "      <td>1</td>\n",
       "      <td>0</td>\n",
       "      <td>4.627451</td>\n",
       "      <td>7</td>\n",
       "      <td>2270.889</td>\n",
       "      <td>3852.800</td>\n",
       "      <td>3018.167</td>\n",
       "      <td>2076.333</td>\n",
       "      <td>0.397545</td>\n",
       "      <td>0.044864</td>\n",
       "      <td>0.035294</td>\n",
       "      <td>0.019608</td>\n",
       "      <td>0.00</td>\n",
       "      <td>0.00</td>\n",
       "      <td>1400</td>\n",
       "    </tr>\n",
       "    <tr>\n",
       "      <th>3</th>\n",
       "      <td>african telecom proposes diverse emoticons</td>\n",
       "      <td>less week apple pledged make emoticons raciall...</td>\n",
       "      <td>Tuesday</td>\n",
       "      <td>0</td>\n",
       "      <td>April</td>\n",
       "      <td>0</td>\n",
       "      <td>5</td>\n",
       "      <td>6</td>\n",
       "      <td>283</td>\n",
       "      <td>Tech</td>\n",
       "      <td>0</td>\n",
       "      <td>0</td>\n",
       "      <td>0</td>\n",
       "      <td>0</td>\n",
       "      <td>1</td>\n",
       "      <td>0.525896</td>\n",
       "      <td>4</td>\n",
       "      <td>1</td>\n",
       "      <td>0</td>\n",
       "      <td>5.083665</td>\n",
       "      <td>9</td>\n",
       "      <td>0.000</td>\n",
       "      <td>3581.094</td>\n",
       "      <td>1871.403</td>\n",
       "      <td>2200.000</td>\n",
       "      <td>0.491578</td>\n",
       "      <td>0.157620</td>\n",
       "      <td>0.047809</td>\n",
       "      <td>0.011952</td>\n",
       "      <td>0.00</td>\n",
       "      <td>0.00</td>\n",
       "      <td>1300</td>\n",
       "    </tr>\n",
       "    <tr>\n",
       "      <th>4</th>\n",
       "      <td>google launch improved android camera app repo...</td>\n",
       "      <td>android users may soon see series new features...</td>\n",
       "      <td>Tuesday</td>\n",
       "      <td>0</td>\n",
       "      <td>April</td>\n",
       "      <td>0</td>\n",
       "      <td>5</td>\n",
       "      <td>10</td>\n",
       "      <td>282</td>\n",
       "      <td>Others</td>\n",
       "      <td>0</td>\n",
       "      <td>0</td>\n",
       "      <td>1</td>\n",
       "      <td>0</td>\n",
       "      <td>0</td>\n",
       "      <td>0.588889</td>\n",
       "      <td>6</td>\n",
       "      <td>9</td>\n",
       "      <td>0</td>\n",
       "      <td>4.336022</td>\n",
       "      <td>7</td>\n",
       "      <td>3581.094</td>\n",
       "      <td>8453.451</td>\n",
       "      <td>5155.323</td>\n",
       "      <td>805.000</td>\n",
       "      <td>0.628535</td>\n",
       "      <td>0.078497</td>\n",
       "      <td>0.053763</td>\n",
       "      <td>0.034946</td>\n",
       "      <td>0.00</td>\n",
       "      <td>0.00</td>\n",
       "      <td>3000</td>\n",
       "    </tr>\n",
       "  </tbody>\n",
       "</table>\n",
       "</div>"
      ],
      "text/plain": [
       "                                       cleaned_title  \\\n",
       "0                            time youtube competitor   \n",
       "1  ultimate roundup 2014s biggest april fools day...   \n",
       "2       selfie one garish jacket red sox white house   \n",
       "3         african telecom proposes diverse emoticons   \n",
       "4  google launch improved android camera app repo...   \n",
       "\n",
       "                                        cleaned_text  weekday  is_weekend  \\\n",
       "0  reported last week yahoo getting online video ...   Monday           0   \n",
       "1  april fools marks day pranking goes corporate ...  Tuesday           0   \n",
       "2  2013 world series champion boston red sox visi...  Tuesday           0   \n",
       "3  less week apple pledged make emoticons raciall...  Tuesday           0   \n",
       "4  android users may soon see series new features...  Tuesday           0   \n",
       "\n",
       "   month  month number  weekday number  title_tokens  text_tokens  \\\n",
       "0  March             1               1             7          195   \n",
       "1  April             0               5            12          108   \n",
       "2  April             0               5            15          517   \n",
       "3  April             0               5             6          283   \n",
       "4  April             0               5            10          282   \n",
       "\n",
       "  cleaned_data_channel  Channel_Entertainment  Channel_Lifestyle  \\\n",
       "0             Business                      0                  0   \n",
       "1                 Tech                      0                  0   \n",
       "2                 Tech                      0                  0   \n",
       "3                 Tech                      0                  0   \n",
       "4               Others                      0                  0   \n",
       "\n",
       "   Channel_Others  Channel_Social Media  Channel_Tech  unique_tokens_rate  \\\n",
       "0               0                     0             0            0.640816   \n",
       "1               0                     0             1            0.549618   \n",
       "2               0                     0             1            0.577236   \n",
       "3               0                     0             1            0.525896   \n",
       "4               1                     0             0            0.588889   \n",
       "\n",
       "   num_hrefs  num_imgs  num_videos  average_token_length  num_keywords  \\\n",
       "0          5         3           1              4.579592             5   \n",
       "1          4         1           0              4.636704             7   \n",
       "2          8         1           0              4.627451             7   \n",
       "3          4         1           0              5.083665             9   \n",
       "4          6         9           0              4.336022             7   \n",
       "\n",
       "   min_avg_key  max_avg_key  avg_avg_key  href_avg_shares  \\\n",
       "0     1459.500     4817.692     3370.415         1833.333   \n",
       "1        0.000     3581.094     2556.367         8500.000   \n",
       "2     2270.889     3852.800     3018.167         2076.333   \n",
       "3        0.000     3581.094     1871.403         2200.000   \n",
       "4     3581.094     8453.451     5155.323          805.000   \n",
       "\n",
       "   global_subjectivity  global_sentiment_polarity  global_rate_positive_words  \\\n",
       "0             0.403762                   0.038762                    0.036735   \n",
       "1             0.410707                   0.180934                    0.044944   \n",
       "2             0.397545                   0.044864                    0.035294   \n",
       "3             0.491578                   0.157620                    0.047809   \n",
       "4             0.628535                   0.078497                    0.053763   \n",
       "\n",
       "   global_rate_negative_words  title_subjectivity  title_sentiment_polarity  \\\n",
       "0                    0.024490                0.25                      0.25   \n",
       "1                    0.003745                0.00                      0.00   \n",
       "2                    0.019608                0.00                      0.00   \n",
       "3                    0.011952                0.00                      0.00   \n",
       "4                    0.034946                0.00                      0.00   \n",
       "\n",
       "   shares  \n",
       "0    1600  \n",
       "1    1500  \n",
       "2    1400  \n",
       "3    1300  \n",
       "4    3000  "
      ]
     },
     "execution_count": 1,
     "metadata": {},
     "output_type": "execute_result"
    }
   ],
   "source": [
    "import numpy as np\n",
    "import pandas as pd\n",
    "pd.set_option('display.max_rows',None)\n",
    "pd.set_option('display.max_columns',None)\n",
    "\n",
    "import matplotlib.pyplot as plt\n",
    "import seaborn as sns\n",
    "\n",
    "import os\n",
    "import time \n",
    "import re\n",
    "\n",
    "import warnings\n",
    "warnings.filterwarnings('ignore')\n",
    "\n",
    "df = pd.read_csv('data/news_share_data_selected.csv')\n",
    "print(df.shape)\n",
    "df.head()"
   ]
  },
  {
   "cell_type": "markdown",
   "id": "3f4da5d2",
   "metadata": {},
   "source": [
    "### 5.1.2 Extra Trees Regressor (feature_importance_)"
   ]
  },
  {
   "cell_type": "markdown",
   "id": "0153dbc9",
   "metadata": {},
   "source": [
    "**workin with all the numerical values**"
   ]
  },
  {
   "cell_type": "code",
   "execution_count": 5,
   "id": "a48e9d17",
   "metadata": {},
   "outputs": [
    {
     "data": {
      "text/plain": [
       "Index(['cleaned_title', 'cleaned_text', 'weekday', 'is_weekend', 'month',\n",
       "       'month number', 'weekday number', 'title_tokens', 'text_tokens',\n",
       "       'cleaned_data_channel', 'Channel_Entertainment', 'Channel_Lifestyle',\n",
       "       'Channel_Others', 'Channel_Social Media', 'Channel_Tech',\n",
       "       'unique_tokens_rate', 'num_hrefs', 'num_imgs', 'num_videos',\n",
       "       'average_token_length', 'num_keywords', 'min_avg_key', 'max_avg_key',\n",
       "       'avg_avg_key', 'href_avg_shares', 'global_subjectivity',\n",
       "       'global_sentiment_polarity', 'global_rate_positive_words',\n",
       "       'global_rate_negative_words', 'title_subjectivity',\n",
       "       'title_sentiment_polarity', 'shares'],\n",
       "      dtype='object')"
      ]
     },
     "execution_count": 5,
     "metadata": {},
     "output_type": "execute_result"
    }
   ],
   "source": [
    "df.columns"
   ]
  },
  {
   "cell_type": "code",
   "execution_count": 16,
   "id": "706c6b14",
   "metadata": {},
   "outputs": [
    {
     "data": {
      "text/html": [
       "<div>\n",
       "<style scoped>\n",
       "    .dataframe tbody tr th:only-of-type {\n",
       "        vertical-align: middle;\n",
       "    }\n",
       "\n",
       "    .dataframe tbody tr th {\n",
       "        vertical-align: top;\n",
       "    }\n",
       "\n",
       "    .dataframe thead th {\n",
       "        text-align: right;\n",
       "    }\n",
       "</style>\n",
       "<table border=\"1\" class=\"dataframe\">\n",
       "  <thead>\n",
       "    <tr style=\"text-align: right;\">\n",
       "      <th></th>\n",
       "      <th>is_weekend</th>\n",
       "      <th>month number</th>\n",
       "      <th>weekday number</th>\n",
       "      <th>title_tokens</th>\n",
       "      <th>text_tokens</th>\n",
       "      <th>Channel_Entertainment</th>\n",
       "      <th>Channel_Lifestyle</th>\n",
       "      <th>Channel_Others</th>\n",
       "      <th>Channel_Social Media</th>\n",
       "      <th>Channel_Tech</th>\n",
       "      <th>unique_tokens_rate</th>\n",
       "      <th>num_hrefs</th>\n",
       "      <th>num_imgs</th>\n",
       "      <th>num_videos</th>\n",
       "      <th>average_token_length</th>\n",
       "      <th>num_keywords</th>\n",
       "      <th>min_avg_key</th>\n",
       "      <th>max_avg_key</th>\n",
       "      <th>avg_avg_key</th>\n",
       "      <th>href_avg_shares</th>\n",
       "      <th>global_subjectivity</th>\n",
       "      <th>global_sentiment_polarity</th>\n",
       "      <th>global_rate_positive_words</th>\n",
       "      <th>global_rate_negative_words</th>\n",
       "      <th>title_subjectivity</th>\n",
       "      <th>title_sentiment_polarity</th>\n",
       "      <th>shares</th>\n",
       "    </tr>\n",
       "  </thead>\n",
       "  <tbody>\n",
       "    <tr>\n",
       "      <th>0</th>\n",
       "      <td>0</td>\n",
       "      <td>1</td>\n",
       "      <td>1</td>\n",
       "      <td>7</td>\n",
       "      <td>195</td>\n",
       "      <td>0</td>\n",
       "      <td>0</td>\n",
       "      <td>0</td>\n",
       "      <td>0</td>\n",
       "      <td>0</td>\n",
       "      <td>0.640816</td>\n",
       "      <td>5</td>\n",
       "      <td>3</td>\n",
       "      <td>1</td>\n",
       "      <td>4.579592</td>\n",
       "      <td>5</td>\n",
       "      <td>1459.5</td>\n",
       "      <td>4817.692</td>\n",
       "      <td>3370.415</td>\n",
       "      <td>1833.333</td>\n",
       "      <td>0.403762</td>\n",
       "      <td>0.038762</td>\n",
       "      <td>0.036735</td>\n",
       "      <td>0.02449</td>\n",
       "      <td>0.25</td>\n",
       "      <td>0.25</td>\n",
       "      <td>1600</td>\n",
       "    </tr>\n",
       "  </tbody>\n",
       "</table>\n",
       "</div>"
      ],
      "text/plain": [
       "   is_weekend  month number  weekday number  title_tokens  text_tokens  \\\n",
       "0           0             1               1             7          195   \n",
       "\n",
       "   Channel_Entertainment  Channel_Lifestyle  Channel_Others  \\\n",
       "0                      0                  0               0   \n",
       "\n",
       "   Channel_Social Media  Channel_Tech  unique_tokens_rate  num_hrefs  \\\n",
       "0                     0             0            0.640816          5   \n",
       "\n",
       "   num_imgs  num_videos  average_token_length  num_keywords  min_avg_key  \\\n",
       "0         3           1              4.579592             5       1459.5   \n",
       "\n",
       "   max_avg_key  avg_avg_key  href_avg_shares  global_subjectivity  \\\n",
       "0     4817.692     3370.415         1833.333             0.403762   \n",
       "\n",
       "   global_sentiment_polarity  global_rate_positive_words  \\\n",
       "0                   0.038762                    0.036735   \n",
       "\n",
       "   global_rate_negative_words  title_subjectivity  title_sentiment_polarity  \\\n",
       "0                     0.02449                0.25                      0.25   \n",
       "\n",
       "   shares  \n",
       "0    1600  "
      ]
     },
     "execution_count": 16,
     "metadata": {},
     "output_type": "execute_result"
    }
   ],
   "source": [
    "num_df = df.drop(columns = ['cleaned_title', 'cleaned_text','cleaned_data_channel','weekday','month'])\n",
    "num_df.head(1)"
   ]
  },
  {
   "cell_type": "code",
   "execution_count": 17,
   "id": "a551e351",
   "metadata": {},
   "outputs": [],
   "source": [
    "x= num_df.drop(columns ='shares') #features\n",
    "y= num_df['shares'] #label"
   ]
  },
  {
   "cell_type": "code",
   "execution_count": 18,
   "id": "30eed402",
   "metadata": {
    "scrolled": true
   },
   "outputs": [
    {
     "data": {
      "text/plain": [
       "ExtraTreesRegressor()"
      ]
     },
     "execution_count": 18,
     "metadata": {},
     "output_type": "execute_result"
    }
   ],
   "source": [
    "#fitting the train data\n",
    "from sklearn.ensemble import ExtraTreesRegressor\n",
    "choose = ExtraTreesRegressor()\n",
    "choose.fit(x,y)"
   ]
  },
  {
   "cell_type": "code",
   "execution_count": 19,
   "id": "4da77574",
   "metadata": {},
   "outputs": [
    {
     "data": {
      "image/png": "[encoded data removed]",
      "text/plain": [
       "<Figure size 720x432 with 1 Axes>"
      ]
     },
     "metadata": {
      "needs_background": "light"
     },
     "output_type": "display_data"
    }
   ],
   "source": [
    "#showing in graph which are the important features we got..\n",
    "feature_importances = choose.feature_importances_\n",
    "feature_names = x.columns\n",
    "\n",
    "# Create a DataFrame with feature importances and their corresponding names\n",
    "sorted_feature_importances = pd.DataFrame({'Feature Importance': feature_importances, 'Feature Names': feature_names})\n",
    "\n",
    "# Sort the DataFrame based on feature importances in descending order\n",
    "sorted_feature_importances = sorted_feature_importances.sort_values(by='Feature Importance', ascending=False)\n",
    "\n",
    "# Plot the sorted feature importances\n",
    "plt.figure(figsize=(10, 6))\n",
    "sns.barplot(x='Feature Importance', y='Feature Names', data=sorted_feature_importances)\n",
    "plt.xlabel('Feature Importances')\n",
    "plt.ylabel('Feature Names')\n",
    "plt.title('Feature Importances for the Model')\n",
    "plt.savefig('fig-4.png')\n",
    "plt.show()"
   ]
  },
  {
   "cell_type": "markdown",
   "id": "55b1947b",
   "metadata": {},
   "source": [
    "### 5.1.3 RFECV\n"
   ]
  },
  {
   "cell_type": "code",
   "execution_count": 20,
   "id": "a325f7b0",
   "metadata": {},
   "outputs": [],
   "source": [
    "#separating train and test(library/API)\n",
    "from sklearn.model_selection import train_test_split\n",
    "#ensembling all by means of rf regressor since its a regresion problem\n",
    "from sklearn.ensemble import RandomForestRegressor\n",
    "#We will create a way by an algorithm that eliminates useless features after every iteration and obviously after an ensemble technique\n",
    "from sklearn.feature_selection import RFECV\n",
    "#finding the desired score\n",
    "from sklearn.metrics import mean_squared_error"
   ]
  },
  {
   "cell_type": "code",
   "execution_count": 21,
   "id": "c674e35d",
   "metadata": {},
   "outputs": [],
   "source": [
    "#Creation phase..\n",
    "X_train, X_test, y_train, y_test = train_test_split(num_df,y, test_size = 0.25)\n",
    "\n",
    "# Create the RandomForestRegressor model\n",
    "rfr = RandomForestRegressor()\n",
    "\n",
    "# Create the RFECV model with the RandomForestRegressor\n",
    "#The negative sign is used because RFECV always maximizes the scoring metric, but we typically want to minimize the MSE.\n",
    "rfecv = RFECV(estimator = rfr, cv =5, scoring ='neg_mean_squared_error')"
   ]
  },
  {
   "cell_type": "code",
   "execution_count": 22,
   "id": "682f6ac6",
   "metadata": {},
   "outputs": [],
   "source": [
    "#Fitting phase\n",
    "rfecv.fit(X_train, y_train)\n",
    "#getting the selected features by rfecv support into X_train\n",
    "selected_features = X_train.columns[rfecv.support_]"
   ]
  },
  {
   "cell_type": "markdown",
   "id": "a059777c",
   "metadata": {},
   "source": [
    "## 5.2 Ensembling(Random Forest Regressor)\n"
   ]
  },
  {
   "cell_type": "code",
   "execution_count": 23,
   "id": "f2b78338",
   "metadata": {},
   "outputs": [],
   "source": [
    "#ensembling phase\n",
    "# Train the RandomForestRegressor on the selected features\n",
    "rfr.fit(X_train[selected_features], y_train)\n",
    "#finally predict on test data\n",
    "y_pred = rfr.predict(X_test[selected_features])"
   ]
  },
  {
   "cell_type": "code",
   "execution_count": 24,
   "id": "172a89ef",
   "metadata": {
    "scrolled": true
   },
   "outputs": [
    {
     "name": "stdout",
     "output_type": "stream",
     "text": [
      "R2 score: 0.9702017487510084\n"
     ]
    }
   ],
   "source": [
    "from sklearn.metrics import r2_score\n",
    "#scoring \n",
    "r2 = r2_score(y_test, y_pred)\n",
    "print(f'R2 score: {r2}')"
   ]
  },
  {
   "cell_type": "markdown",
   "id": "a152b1d5",
   "metadata": {},
   "source": [
    "Here, the training score is too high which means **Overfitting**, so we will go with Linear and lasso"
   ]
  },
  {
   "cell_type": "code",
   "execution_count": 26,
   "id": "89023db0",
   "metadata": {},
   "outputs": [
    {
     "data": {
      "image/png": "[encoded data removed]",
      "text/plain": [
       "<Figure size 432x288 with 1 Axes>"
      ]
     },
     "metadata": {
      "needs_background": "light"
     },
     "output_type": "display_data"
    }
   ],
   "source": [
    "sns.scatterplot(x=y_test, y=y_pred, hue=r2,alpha=1)\n",
    "plt.xlabel(\"Test Data\")\n",
    "plt.ylabel(\"Predicted Data\")\n",
    "\n",
    "plt.show()"
   ]
  },
  {
   "cell_type": "markdown",
   "id": "5110fbb1",
   "metadata": {},
   "source": [
    "## 4. Linear Regression"
   ]
  },
  {
   "cell_type": "code",
   "execution_count": 30,
   "id": "d0773ff5",
   "metadata": {
    "scrolled": true
   },
   "outputs": [
    {
     "name": "stdout",
     "output_type": "stream",
     "text": [
      "Mean Squared Error: 60766321.23235924\n",
      "Root Mean Squared Error: 7795.275571290552\n",
      "R-squared: -2.097895312837349\n",
      "Coefficients: [-8.31232048e+02  5.05410694e+03 -2.87867399e+00  3.36078732e+02\n",
      "  1.00242367e+01  1.36903702e+03 -3.12754903e+03  5.22394990e+02\n",
      "  1.32372834e+03  5.20095000e+03 -2.37840186e+04  1.22403061e+02\n",
      " -2.13093700e+02 -1.52783839e+02  1.45403613e+03  1.58390963e+02\n",
      " -1.09704896e+00 -3.41122086e-01  2.15781714e+00  4.53363648e-04\n",
      "  1.34366654e+04 -3.80939192e+03 -9.42358310e+04  6.69783448e+03\n",
      "  2.82265949e+00  4.11713311e+03]\n",
      "Intercept: -6826.950563976306\n"
     ]
    }
   ],
   "source": [
    "from sklearn.model_selection import train_test_split\n",
    "from sklearn.linear_model import LinearRegression\n",
    "from sklearn.metrics import mean_squared_error, r2_score\n",
    "\n",
    "X = num_df.drop(columns=['shares'])  # Features (excluding 'shares')\n",
    "y = num_df['shares']  # Target variable\n",
    "\n",
    "# Split the data into training and testing sets\n",
    "X_train, X_test, y_train, y_test = train_test_split(X, y, test_size=0.2, random_state=42)\n",
    "\n",
    "# Initialize the Linear Regression model\n",
    "model = LinearRegression()\n",
    "\n",
    "# Fit the model to the training data\n",
    "model.fit(X_train, y_train)\n",
    "\n",
    "# Make predictions on the test data\n",
    "y_pred = model.predict(X_test)\n",
    "\n",
    "# Evaluate the model\n",
    "mse = mean_squared_error(y_test, y_pred)\n",
    "rmse = mse**0.5\n",
    "r2 = r2_score(y_test, y_pred)\n",
    "\n",
    "print(f\"Mean Squared Error: {mse}\")\n",
    "print(f\"Root Mean Squared Error: {rmse}\")\n",
    "print(f\"R-squared: {r2}\")\n",
    "\n",
    "# Coefficients and intercept\n",
    "coefficients = model.coef_\n",
    "intercept = model.intercept_\n",
    "\n",
    "print(\"Coefficients:\", coefficients)\n",
    "print(\"Intercept:\", intercept)"
   ]
  },
  {
   "cell_type": "markdown",
   "id": "cf0af52e",
   "metadata": {},
   "source": [
    "Again, the r-score is bad and wil be underfitting"
   ]
  },
  {
   "cell_type": "markdown",
   "id": "3f4442fb",
   "metadata": {},
   "source": [
    "## 5. Lasso Regression "
   ]
  },
  {
   "cell_type": "code",
   "execution_count": 33,
   "id": "d2bc644c",
   "metadata": {},
   "outputs": [
    {
     "name": "stdout",
     "output_type": "stream",
     "text": [
      "Mean Squared Error: 60128572.669605605\n",
      "Root Mean Squared Error: 7754.261581195569\n",
      "R-squared: -2.0653825945543285\n"
     ]
    }
   ],
   "source": [
    "from sklearn.linear_model import Lasso\n",
    "from sklearn.model_selection import train_test_split\n",
    "from sklearn.metrics import mean_squared_error, r2_score\n",
    "import numpy as np\n",
    "\n",
    "X_train, X_test, y_train, y_test = train_test_split(X, y, test_size=0.2, random_state=42)\n",
    "\n",
    "lasso_model = Lasso(alpha=1.0)  \n",
    "\n",
    "lasso_model.fit(X_train, y_train)\n",
    "y_pred = lasso_model.predict(X_test)\n",
    "\n",
    "mse = mean_squared_error(y_test, y_pred)\n",
    "rmse = np.sqrt(mse)\n",
    "r2 = r2_score(y_test, y_pred)\n",
    "\n",
    "print(\"Mean Squared Error:\", mse)\n",
    "print(\"Root Mean Squared Error:\", rmse)\n",
    "print(\"R-squared:\", r2)\n",
    "\n",
    "\n"
   ]
  },
  {
   "cell_type": "markdown",
   "id": "e9365e6b",
   "metadata": {},
   "source": [
    "## hyperparameter tuning"
   ]
  },
  {
   "cell_type": "code",
   "execution_count": 34,
   "id": "3ff5c7c5",
   "metadata": {},
   "outputs": [
    {
     "name": "stdout",
     "output_type": "stream",
     "text": [
      "Fitting 5 folds for each of 7 candidates, totalling 35 fits\n",
      "[CV] END bootstrap=True, max_depth=4, max_features=auto, min_samples_leaf=8, min_samples_split=6, n_estimators=70; total time=   0.1s\n",
      "[CV] END bootstrap=True, max_depth=4, max_features=auto, min_samples_leaf=8, min_samples_split=6, n_estimators=70; total time=   0.1s\n",
      "[CV] END bootstrap=True, max_depth=4, max_features=auto, min_samples_leaf=8, min_samples_split=6, n_estimators=70; total time=   0.1s\n",
      "[CV] END bootstrap=True, max_depth=4, max_features=auto, min_samples_leaf=8, min_samples_split=6, n_estimators=70; total time=   0.1s\n",
      "[CV] END bootstrap=True, max_depth=4, max_features=auto, min_samples_leaf=8, min_samples_split=6, n_estimators=70; total time=   0.1s\n",
      "[CV] END bootstrap=False, max_depth=3, max_features=auto, min_samples_leaf=8, min_samples_split=6, n_estimators=40; total time=   0.0s\n",
      "[CV] END bootstrap=False, max_depth=3, max_features=auto, min_samples_leaf=8, min_samples_split=6, n_estimators=40; total time=   0.0s\n",
      "[CV] END bootstrap=False, max_depth=3, max_features=auto, min_samples_leaf=8, min_samples_split=6, n_estimators=40; total time=   0.0s\n",
      "[CV] END bootstrap=False, max_depth=3, max_features=auto, min_samples_leaf=8, min_samples_split=6, n_estimators=40; total time=   0.0s\n",
      "[CV] END bootstrap=False, max_depth=3, max_features=auto, min_samples_leaf=8, min_samples_split=6, n_estimators=40; total time=   0.0s\n",
      "[CV] END bootstrap=False, max_depth=8, max_features=auto, min_samples_leaf=6, min_samples_split=6, n_estimators=20; total time=   0.0s\n",
      "[CV] END bootstrap=False, max_depth=8, max_features=auto, min_samples_leaf=6, min_samples_split=6, n_estimators=20; total time=   0.0s\n",
      "[CV] END bootstrap=False, max_depth=8, max_features=auto, min_samples_leaf=6, min_samples_split=6, n_estimators=20; total time=   0.0s\n",
      "[CV] END bootstrap=False, max_depth=8, max_features=auto, min_samples_leaf=6, min_samples_split=6, n_estimators=20; total time=   0.0s\n",
      "[CV] END bootstrap=False, max_depth=8, max_features=auto, min_samples_leaf=6, min_samples_split=6, n_estimators=20; total time=   0.0s\n",
      "[CV] END bootstrap=False, max_depth=6, max_features=sqrt, min_samples_leaf=5, min_samples_split=2, n_estimators=100; total time=   0.3s\n",
      "[CV] END bootstrap=False, max_depth=6, max_features=sqrt, min_samples_leaf=5, min_samples_split=2, n_estimators=100; total time=   0.3s\n",
      "[CV] END bootstrap=False, max_depth=6, max_features=sqrt, min_samples_leaf=5, min_samples_split=2, n_estimators=100; total time=   0.3s\n",
      "[CV] END bootstrap=False, max_depth=6, max_features=sqrt, min_samples_leaf=5, min_samples_split=2, n_estimators=100; total time=   0.2s\n",
      "[CV] END bootstrap=False, max_depth=6, max_features=sqrt, min_samples_leaf=5, min_samples_split=2, n_estimators=100; total time=   0.3s\n",
      "[CV] END bootstrap=False, max_depth=9, max_features=auto, min_samples_leaf=10, min_samples_split=4, n_estimators=70; total time=   0.2s\n",
      "[CV] END bootstrap=False, max_depth=9, max_features=auto, min_samples_leaf=10, min_samples_split=4, n_estimators=70; total time=   0.2s\n",
      "[CV] END bootstrap=False, max_depth=9, max_features=auto, min_samples_leaf=10, min_samples_split=4, n_estimators=70; total time=   0.2s\n",
      "[CV] END bootstrap=False, max_depth=9, max_features=auto, min_samples_leaf=10, min_samples_split=4, n_estimators=70; total time=   0.2s\n",
      "[CV] END bootstrap=False, max_depth=9, max_features=auto, min_samples_leaf=10, min_samples_split=4, n_estimators=70; total time=   0.2s\n",
      "[CV] END bootstrap=False, max_depth=9, max_features=auto, min_samples_leaf=5, min_samples_split=4, n_estimators=70; total time=   0.2s\n",
      "[CV] END bootstrap=False, max_depth=9, max_features=auto, min_samples_leaf=5, min_samples_split=4, n_estimators=70; total time=   0.2s\n",
      "[CV] END bootstrap=False, max_depth=9, max_features=auto, min_samples_leaf=5, min_samples_split=4, n_estimators=70; total time=   0.2s\n",
      "[CV] END bootstrap=False, max_depth=9, max_features=auto, min_samples_leaf=5, min_samples_split=4, n_estimators=70; total time=   0.2s\n",
      "[CV] END bootstrap=False, max_depth=9, max_features=auto, min_samples_leaf=5, min_samples_split=4, n_estimators=70; total time=   0.2s\n",
      "[CV] END bootstrap=True, max_depth=9, max_features=auto, min_samples_leaf=2, min_samples_split=5, n_estimators=90; total time=   0.3s\n",
      "[CV] END bootstrap=True, max_depth=9, max_features=auto, min_samples_leaf=2, min_samples_split=5, n_estimators=90; total time=   0.3s\n",
      "[CV] END bootstrap=True, max_depth=9, max_features=auto, min_samples_leaf=2, min_samples_split=5, n_estimators=90; total time=   0.3s\n",
      "[CV] END bootstrap=True, max_depth=9, max_features=auto, min_samples_leaf=2, min_samples_split=5, n_estimators=90; total time=   0.3s\n",
      "[CV] END bootstrap=True, max_depth=9, max_features=auto, min_samples_leaf=2, min_samples_split=5, n_estimators=90; total time=   0.3s\n"
     ]
    },
    {
     "data": {
      "text/plain": [
       "RandomizedSearchCV(cv=5, estimator=RandomForestClassifier(), n_iter=7,\n",
       "                   param_distributions={'bootstrap': [True, False],\n",
       "                                        'max_depth': <scipy.stats._distn_infrastructure.rv_discrete_frozen object at 0x000001EE43612DF0>,\n",
       "                                        'max_features': ['auto', 'sqrt'],\n",
       "                                        'min_samples_leaf': <scipy.stats._distn_infrastructure.rv_discrete_frozen object at 0x000001EE1DB1B760>,\n",
       "                                        'min_samples_split': <scipy.stats._distn_infrastructure.rv_discrete_frozen object at 0x000001EE4363E520>,\n",
       "                                        'n_estimators': array([ 10,  20,  30,  40,  50,  60,  70,  80,  90, 100])},\n",
       "                   random_state=42, scoring='neg_mean_squared_error',\n",
       "                   verbose=2)"
      ]
     },
     "execution_count": 34,
     "metadata": {},
     "output_type": "execute_result"
    }
   ],
   "source": [
    "from sklearn.model_selection import RandomizedSearchCV\n",
    "from sklearn.ensemble import RandomForestClassifier\n",
    "\n",
    "import numpy as np\n",
    "from scipy.stats import randint\n",
    "\n",
    "#assigning the ensemble learning model\n",
    "rf_classifier = RandomForestClassifier()\n",
    "\n",
    "#generating the parameter distributions\n",
    "# Define hyperparameter space for RandomizedSearchCV\n",
    "\n",
    "param_dist = {\n",
    "    'n_estimators': np.linspace(10, 100, num=10, dtype='int'),\n",
    "    'max_depth': randint(1, 10),\n",
    "    'max_features': ['auto', 'sqrt'],  # Added a comma here cz of dictionary\n",
    "    'min_samples_split': randint(2, 11),\n",
    "    'min_samples_leaf': randint(1, 11),\n",
    "    'bootstrap': [True, False]\n",
    "}\n",
    "\n",
    "# Create RandomizedSearchCV object\n",
    "\n",
    "rf_comb = RandomizedSearchCV(\n",
    "    estimator=rf_classifier, \n",
    "    param_distributions=param_dist, \n",
    "    scoring='neg_mean_squared_error', \n",
    "    verbose=2, \n",
    "    cv=5, \n",
    "    random_state=42,\n",
    "    n_iter = 7\n",
    ")\n",
    "# Fit the RandomizedSearchCV object to the data\n",
    "rf_comb.fit(X_train, y_train)"
   ]
  },
  {
   "cell_type": "code",
   "execution_count": 35,
   "id": "eb0b6f87",
   "metadata": {},
   "outputs": [
    {
     "name": "stdout",
     "output_type": "stream",
     "text": [
      "Best HyperParameters are: {'bootstrap': False, 'max_depth': 9, 'max_features': 'auto', 'min_samples_leaf': 5, 'min_samples_split': 4, 'n_estimators': 70}\n",
      "\n",
      "Best Score: -644539270.33875\n"
     ]
    }
   ],
   "source": [
    "#printing our best parameter\n",
    "print(f'Best HyperParameters are: {rf_comb.best_params_}\\n')\n",
    "print(\"Best Score:\", rf_comb.best_score_)"
   ]
  },
  {
   "cell_type": "code",
   "execution_count": 36,
   "id": "c331a64d",
   "metadata": {},
   "outputs": [],
   "source": [
    "#predicting and using it for later purposes\n",
    "rsc_pred = rf_comb.predict(X_test)"
   ]
  },
  {
   "cell_type": "code",
   "execution_count": 37,
   "id": "43cf5ac5",
   "metadata": {},
   "outputs": [
    {
     "data": {
      "image/png": "[encoded data removed]",
      "text/plain": [
       "<Figure size 432x288 with 1 Axes>"
      ]
     },
     "metadata": {
      "needs_background": "light"
     },
     "output_type": "display_data"
    }
   ],
   "source": [
    "sns.histplot(y_test-y_pred)\n",
    "plt.show()"
   ]
  },
  {
   "cell_type": "code",
   "execution_count": 40,
   "id": "68d18cf2",
   "metadata": {},
   "outputs": [
    {
     "name": "stdout",
     "output_type": "stream",
     "text": [
      "MAE: 2123.82\n",
      "R2: -0.15324601462000742\n",
      "MSE: 22621331.81\n",
      "RMSE: 4756.188790407715\n"
     ]
    }
   ],
   "source": [
    "from sklearn import metrics\n",
    "print('MAE:', metrics.mean_absolute_error(y_test, rsc_pred))\n",
    "print('R2:', metrics.r2_score(y_test, rsc_pred))\n",
    "print('MSE:', metrics.mean_squared_error(y_test, rsc_pred))\n",
    "print('RMSE:', np.sqrt(metrics.mean_squared_error(y_test, rsc_pred)))"
   ]
  },
  {
   "cell_type": "code",
   "execution_count": null,
   "id": "fdbb1009",
   "metadata": {},
   "outputs": [],
   "source": []
  }
 ],
 "metadata": {
  "kernelspec": {
   "display_name": "Python 3 (ipykernel)",
   "language": "python",
   "name": "python3"
  },
  "language_info": {
   "codemirror_mode": {
    "name": "ipython",
    "version": 3
   },
   "file_extension": ".py",
   "mimetype": "text/x-python",
   "name": "python",
   "nbconvert_exporter": "python",
   "pygments_lexer": "ipython3",
   "version": "3.9.12"
  }
 },
 "nbformat": 4,
 "nbformat_minor": 5
}
